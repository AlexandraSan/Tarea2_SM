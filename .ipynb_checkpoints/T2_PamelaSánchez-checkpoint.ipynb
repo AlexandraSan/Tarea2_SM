{
 "cells": [
  {
   "cell_type": "markdown",
   "metadata": {},
   "source": [
    "# 7 Important Reasons Why You Should Use Python"
   ]
  },
  {
   "cell_type": "markdown",
   "metadata": {},
   "source": [
    "De acuerdo con  TIOBE python es uno de los programas mas populares desde el 2017, con python puedes diseñar desde paginas web hasta aplicaciones de escritorio, aparte de que tiene un nivel elevado de programacion, no por ser sencillo y tener comandos faciles de entender se queda atras con la calidad del programa."
   ]
  },
  {
   "cell_type": "markdown",
   "metadata": {},
   "source": [
    "## 1. Codigo facil de leer y de dar mantenimiento"
   ]
  },
  {
   "cell_type": "markdown",
   "metadata": {},
   "source": [
    "Al hacer un codigo siempre tienes que tener en cuenta de que quede sencillo de leer para las futuras actualizaciones y mantenimiento, estos procesos son mucho mas rapidos si el codigo esta limpio y tiene un orden, estas cosas se consiguen muy facil con python ya que sus codigos son intuitivos."
   ]
  },
  {
   "cell_type": "markdown",
   "metadata": {},
   "source": [
    "## 2. Multiples codigos para diferentes aplicaciones"
   ]
  },
  {
   "cell_type": "markdown",
   "metadata": {},
   "source": [
    "Los paradigmas de programación y las características del lenguaje le ayudan a utilizar Python para desarrollar aplicaciones de software grandes y complejas. Además, sus características de lenguaje admiten varios conceptos en programación funcional y orientada a aspectos. Al mismo tiempo, Python también cuenta con un sistema de tipo dinámico y administración automática de memoria.\n"
   ]
  },
  {
   "cell_type": "markdown",
   "metadata": {},
   "source": [
    "## 3. Compatible con las principales plataformas y sistemas\n",
    "En la actualidad, Python es compatible con muchos sistemas operativos. Incluso puede utilizar intérpretes de Python para ejecutar el código en plataformas y herramientas específicas. Además, Python es un lenguaje de programación interpretado. Le permite ejecutar el mismo código en múltiples plataformas sin tener que volver a compilarlo. Por lo tanto, no es necesario que vuelva a compilar el código después de realizar cualquier modificación."
   ]
  },
  {
   "cell_type": "markdown",
   "metadata": {},
   "source": [
    "## 4.Biblioteca estándar robusta\n",
    "\n",
    "Su biblioteca estándar grande y robusta hace que Python califique sobre otros lenguajes de programación. La biblioteca estándar le permite elegir entre una amplia gama de módulos de acuerdo con sus necesidades precisas. "
   ]
  },
  {
   "cell_type": "markdown",
   "metadata": {},
   "source": [
    "## 5. Muchos marcos y herramientas de código abierto\n",
    "Como lenguaje de programación de código abierto, Python le ayuda a reducir significativamente los costos de desarrollo de software. Incluso puede utilizar varios marcos, bibliotecas y herramientas de desarrollo de Python de código abierto para reducir el tiempo de desarrollo sin aumentar el costo de desarrollo. Incluso tiene la opción de elegir entre una amplia gama de marcos de trabajo Python de código abierto y herramientas de desarrollo de acuerdo con sus necesidades precisas. "
   ]
  },
  {
   "cell_type": "markdown",
   "metadata": {},
   "source": [
    "## 6. Simplifique el desarrollo de software complejo\n",
    "Python es un lenguaje de programación de propósito general. Por lo tanto, puede utilizar el lenguaje de programación para desarrollar aplicaciones web y de escritorio. Además, puede utilizar Python para desarrollar aplicaciones científicas y numéricas complejas. Python está diseñado con funciones para facilitar el análisis y la visualización de datos. Puede aprovechar las funciones de análisis de datos de Python para crear soluciones de big data personalizadas sin dedicar tiempo y esfuerzo adicionales. Al mismo tiempo, las bibliotecas de visualización de datos y las API proporcionadas por Python lo ayudan a visualizar y presentar los datos de una manera más atractiva y efectiva. "
   ]
  },
  {
   "cell_type": "markdown",
   "metadata": {},
   "source": [
    "## 7. Adoptar el desarrollo basado en pruebas\n",
    "Puede utilizar Python para crear un prototipo de la aplicación de software rápidamente. Además, puede crear la aplicación de software directamente desde el prototipo simplemente refactorizando el código Python. Python incluso hace que sea más fácil para usted realizar la codificación y las pruebas simultáneamente al adoptar un enfoque de desarrollo impulsado por pruebas (TDD). Puede escribir fácilmente las pruebas necesarias antes de escribir el código y utilizar las pruebas para evaluar el código de la aplicación de forma continua. Las pruebas también se pueden utilizar para verificar si la aplicación cumple con los requisitos predefinidos en función de su código fuente."
   ]
  },
  {
   "cell_type": "markdown",
   "metadata": {},
   "source": [
    "Y estas son solo 7 de muchas razones increibles para utilizar python de ahora en adelante.\n",
    "Sin embargo tambien hay contras, el programa ha sido probado contra otros incluidos java y C++ y ha demostrado ser mas lento en correr sin embargo es mas rapido actualizarlo por la limpieza y sencilles del codigo, ya depende de la persona que prefiera en su codigo."
   ]
  },
  {
   "cell_type": "markdown",
   "metadata": {},
   "source": [
    "https://medium.com/@mindfiresolutions.usa/python-7-important-reasons-why-you-should-use-python-5801a98a0d0b"
   ]
  },
  {
   "cell_type": "code",
   "execution_count": null,
   "metadata": {},
   "outputs": [],
   "source": []
  }
 ],
 "metadata": {
  "kernelspec": {
   "display_name": "Python 3",
   "language": "python",
   "name": "python3"
  },
  "language_info": {
   "codemirror_mode": {
    "name": "ipython",
    "version": 3
   },
   "file_extension": ".py",
   "mimetype": "text/x-python",
   "name": "python",
   "nbconvert_exporter": "python",
   "pygments_lexer": "ipython3",
   "version": "3.8.3"
  }
 },
 "nbformat": 4,
 "nbformat_minor": 4
}
